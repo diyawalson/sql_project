{
 "cells": [
  {
   "cell_type": "code",
   "execution_count": 122,
   "id": "89744b7a",
   "metadata": {},
   "outputs": [],
   "source": [
    "import numpy as np\n",
    "import pandas as pd\n",
    "import matplotlib.pyplot as plt\n",
    "import seaborn as sns"
   ]
  },
  {
   "cell_type": "code",
   "execution_count": 123,
   "id": "78d87bc5",
   "metadata": {},
   "outputs": [
    {
     "data": {
      "text/html": [
       "<div>\n",
       "<style scoped>\n",
       "    .dataframe tbody tr th:only-of-type {\n",
       "        vertical-align: middle;\n",
       "    }\n",
       "\n",
       "    .dataframe tbody tr th {\n",
       "        vertical-align: top;\n",
       "    }\n",
       "\n",
       "    .dataframe thead th {\n",
       "        text-align: right;\n",
       "    }\n",
       "</style>\n",
       "<table border=\"1\" class=\"dataframe\">\n",
       "  <thead>\n",
       "    <tr style=\"text-align: right;\">\n",
       "      <th></th>\n",
       "      <th>RI</th>\n",
       "      <th>Na</th>\n",
       "      <th>Mg</th>\n",
       "      <th>Al</th>\n",
       "      <th>Si</th>\n",
       "      <th>K</th>\n",
       "      <th>Ca</th>\n",
       "      <th>Ba</th>\n",
       "      <th>Fe</th>\n",
       "    </tr>\n",
       "  </thead>\n",
       "  <tbody>\n",
       "    <tr>\n",
       "      <th>0</th>\n",
       "      <td>1.52101</td>\n",
       "      <td>13.64</td>\n",
       "      <td>4.49</td>\n",
       "      <td>1.10</td>\n",
       "      <td>71.78</td>\n",
       "      <td>0.06</td>\n",
       "      <td>8.75</td>\n",
       "      <td>0.00</td>\n",
       "      <td>0.0</td>\n",
       "    </tr>\n",
       "    <tr>\n",
       "      <th>1</th>\n",
       "      <td>1.51761</td>\n",
       "      <td>13.89</td>\n",
       "      <td>3.60</td>\n",
       "      <td>1.36</td>\n",
       "      <td>72.73</td>\n",
       "      <td>0.48</td>\n",
       "      <td>7.83</td>\n",
       "      <td>0.00</td>\n",
       "      <td>0.0</td>\n",
       "    </tr>\n",
       "    <tr>\n",
       "      <th>2</th>\n",
       "      <td>1.51618</td>\n",
       "      <td>13.53</td>\n",
       "      <td>3.55</td>\n",
       "      <td>1.54</td>\n",
       "      <td>72.99</td>\n",
       "      <td>0.39</td>\n",
       "      <td>7.78</td>\n",
       "      <td>0.00</td>\n",
       "      <td>0.0</td>\n",
       "    </tr>\n",
       "    <tr>\n",
       "      <th>3</th>\n",
       "      <td>1.51766</td>\n",
       "      <td>13.21</td>\n",
       "      <td>3.69</td>\n",
       "      <td>1.29</td>\n",
       "      <td>72.61</td>\n",
       "      <td>0.57</td>\n",
       "      <td>8.22</td>\n",
       "      <td>0.00</td>\n",
       "      <td>0.0</td>\n",
       "    </tr>\n",
       "    <tr>\n",
       "      <th>4</th>\n",
       "      <td>1.51742</td>\n",
       "      <td>13.27</td>\n",
       "      <td>3.62</td>\n",
       "      <td>1.24</td>\n",
       "      <td>73.08</td>\n",
       "      <td>0.55</td>\n",
       "      <td>8.07</td>\n",
       "      <td>0.00</td>\n",
       "      <td>0.0</td>\n",
       "    </tr>\n",
       "    <tr>\n",
       "      <th>...</th>\n",
       "      <td>...</td>\n",
       "      <td>...</td>\n",
       "      <td>...</td>\n",
       "      <td>...</td>\n",
       "      <td>...</td>\n",
       "      <td>...</td>\n",
       "      <td>...</td>\n",
       "      <td>...</td>\n",
       "      <td>...</td>\n",
       "    </tr>\n",
       "    <tr>\n",
       "      <th>209</th>\n",
       "      <td>1.51623</td>\n",
       "      <td>14.14</td>\n",
       "      <td>0.00</td>\n",
       "      <td>2.88</td>\n",
       "      <td>72.61</td>\n",
       "      <td>0.08</td>\n",
       "      <td>9.18</td>\n",
       "      <td>1.06</td>\n",
       "      <td>0.0</td>\n",
       "    </tr>\n",
       "    <tr>\n",
       "      <th>210</th>\n",
       "      <td>1.51685</td>\n",
       "      <td>14.92</td>\n",
       "      <td>0.00</td>\n",
       "      <td>1.99</td>\n",
       "      <td>73.06</td>\n",
       "      <td>0.00</td>\n",
       "      <td>8.40</td>\n",
       "      <td>1.59</td>\n",
       "      <td>0.0</td>\n",
       "    </tr>\n",
       "    <tr>\n",
       "      <th>211</th>\n",
       "      <td>1.52065</td>\n",
       "      <td>14.36</td>\n",
       "      <td>0.00</td>\n",
       "      <td>2.02</td>\n",
       "      <td>73.42</td>\n",
       "      <td>0.00</td>\n",
       "      <td>8.44</td>\n",
       "      <td>1.64</td>\n",
       "      <td>0.0</td>\n",
       "    </tr>\n",
       "    <tr>\n",
       "      <th>212</th>\n",
       "      <td>1.51651</td>\n",
       "      <td>14.38</td>\n",
       "      <td>0.00</td>\n",
       "      <td>1.94</td>\n",
       "      <td>73.61</td>\n",
       "      <td>0.00</td>\n",
       "      <td>8.48</td>\n",
       "      <td>1.57</td>\n",
       "      <td>0.0</td>\n",
       "    </tr>\n",
       "    <tr>\n",
       "      <th>213</th>\n",
       "      <td>1.51711</td>\n",
       "      <td>14.23</td>\n",
       "      <td>0.00</td>\n",
       "      <td>2.08</td>\n",
       "      <td>73.36</td>\n",
       "      <td>0.00</td>\n",
       "      <td>8.62</td>\n",
       "      <td>1.67</td>\n",
       "      <td>0.0</td>\n",
       "    </tr>\n",
       "  </tbody>\n",
       "</table>\n",
       "<p>214 rows × 9 columns</p>\n",
       "</div>"
      ],
      "text/plain": [
       "          RI     Na    Mg    Al     Si     K    Ca    Ba   Fe\n",
       "0    1.52101  13.64  4.49  1.10  71.78  0.06  8.75  0.00  0.0\n",
       "1    1.51761  13.89  3.60  1.36  72.73  0.48  7.83  0.00  0.0\n",
       "2    1.51618  13.53  3.55  1.54  72.99  0.39  7.78  0.00  0.0\n",
       "3    1.51766  13.21  3.69  1.29  72.61  0.57  8.22  0.00  0.0\n",
       "4    1.51742  13.27  3.62  1.24  73.08  0.55  8.07  0.00  0.0\n",
       "..       ...    ...   ...   ...    ...   ...   ...   ...  ...\n",
       "209  1.51623  14.14  0.00  2.88  72.61  0.08  9.18  1.06  0.0\n",
       "210  1.51685  14.92  0.00  1.99  73.06  0.00  8.40  1.59  0.0\n",
       "211  1.52065  14.36  0.00  2.02  73.42  0.00  8.44  1.64  0.0\n",
       "212  1.51651  14.38  0.00  1.94  73.61  0.00  8.48  1.57  0.0\n",
       "213  1.51711  14.23  0.00  2.08  73.36  0.00  8.62  1.67  0.0\n",
       "\n",
       "[214 rows x 9 columns]"
      ]
     },
     "execution_count": 123,
     "metadata": {},
     "output_type": "execute_result"
    }
   ],
   "source": [
    "df=pd.read_csv('glass_cluster.csv')\n",
    "df"
   ]
  },
  {
   "cell_type": "code",
   "execution_count": 124,
   "id": "b37e1076",
   "metadata": {},
   "outputs": [
    {
     "data": {
      "text/plain": [
       "(214, 9)"
      ]
     },
     "execution_count": 124,
     "metadata": {},
     "output_type": "execute_result"
    }
   ],
   "source": [
    "df.shape"
   ]
  },
  {
   "cell_type": "code",
   "execution_count": 125,
   "id": "9296a37f",
   "metadata": {},
   "outputs": [
    {
     "data": {
      "text/plain": [
       "Index(['RI', 'Na', 'Mg', 'Al', 'Si', 'K', 'Ca', 'Ba', 'Fe'], dtype='object')"
      ]
     },
     "execution_count": 125,
     "metadata": {},
     "output_type": "execute_result"
    }
   ],
   "source": [
    "df.columns"
   ]
  },
  {
   "cell_type": "code",
   "execution_count": 126,
   "id": "66691859",
   "metadata": {},
   "outputs": [
    {
     "data": {
      "text/html": [
       "<div>\n",
       "<style scoped>\n",
       "    .dataframe tbody tr th:only-of-type {\n",
       "        vertical-align: middle;\n",
       "    }\n",
       "\n",
       "    .dataframe tbody tr th {\n",
       "        vertical-align: top;\n",
       "    }\n",
       "\n",
       "    .dataframe thead th {\n",
       "        text-align: right;\n",
       "    }\n",
       "</style>\n",
       "<table border=\"1\" class=\"dataframe\">\n",
       "  <thead>\n",
       "    <tr style=\"text-align: right;\">\n",
       "      <th></th>\n",
       "      <th>RI</th>\n",
       "      <th>Na</th>\n",
       "      <th>Mg</th>\n",
       "      <th>Al</th>\n",
       "      <th>Si</th>\n",
       "      <th>K</th>\n",
       "      <th>Ca</th>\n",
       "      <th>Ba</th>\n",
       "      <th>Fe</th>\n",
       "    </tr>\n",
       "  </thead>\n",
       "  <tbody>\n",
       "    <tr>\n",
       "      <th>0</th>\n",
       "      <td>1.52101</td>\n",
       "      <td>13.64</td>\n",
       "      <td>4.49</td>\n",
       "      <td>1.10</td>\n",
       "      <td>71.78</td>\n",
       "      <td>0.06</td>\n",
       "      <td>8.75</td>\n",
       "      <td>0.0</td>\n",
       "      <td>0.0</td>\n",
       "    </tr>\n",
       "    <tr>\n",
       "      <th>1</th>\n",
       "      <td>1.51761</td>\n",
       "      <td>13.89</td>\n",
       "      <td>3.60</td>\n",
       "      <td>1.36</td>\n",
       "      <td>72.73</td>\n",
       "      <td>0.48</td>\n",
       "      <td>7.83</td>\n",
       "      <td>0.0</td>\n",
       "      <td>0.0</td>\n",
       "    </tr>\n",
       "    <tr>\n",
       "      <th>2</th>\n",
       "      <td>1.51618</td>\n",
       "      <td>13.53</td>\n",
       "      <td>3.55</td>\n",
       "      <td>1.54</td>\n",
       "      <td>72.99</td>\n",
       "      <td>0.39</td>\n",
       "      <td>7.78</td>\n",
       "      <td>0.0</td>\n",
       "      <td>0.0</td>\n",
       "    </tr>\n",
       "    <tr>\n",
       "      <th>3</th>\n",
       "      <td>1.51766</td>\n",
       "      <td>13.21</td>\n",
       "      <td>3.69</td>\n",
       "      <td>1.29</td>\n",
       "      <td>72.61</td>\n",
       "      <td>0.57</td>\n",
       "      <td>8.22</td>\n",
       "      <td>0.0</td>\n",
       "      <td>0.0</td>\n",
       "    </tr>\n",
       "    <tr>\n",
       "      <th>4</th>\n",
       "      <td>1.51742</td>\n",
       "      <td>13.27</td>\n",
       "      <td>3.62</td>\n",
       "      <td>1.24</td>\n",
       "      <td>73.08</td>\n",
       "      <td>0.55</td>\n",
       "      <td>8.07</td>\n",
       "      <td>0.0</td>\n",
       "      <td>0.0</td>\n",
       "    </tr>\n",
       "  </tbody>\n",
       "</table>\n",
       "</div>"
      ],
      "text/plain": [
       "        RI     Na    Mg    Al     Si     K    Ca   Ba   Fe\n",
       "0  1.52101  13.64  4.49  1.10  71.78  0.06  8.75  0.0  0.0\n",
       "1  1.51761  13.89  3.60  1.36  72.73  0.48  7.83  0.0  0.0\n",
       "2  1.51618  13.53  3.55  1.54  72.99  0.39  7.78  0.0  0.0\n",
       "3  1.51766  13.21  3.69  1.29  72.61  0.57  8.22  0.0  0.0\n",
       "4  1.51742  13.27  3.62  1.24  73.08  0.55  8.07  0.0  0.0"
      ]
     },
     "execution_count": 126,
     "metadata": {},
     "output_type": "execute_result"
    }
   ],
   "source": [
    "df.head()"
   ]
  },
  {
   "cell_type": "code",
   "execution_count": 127,
   "id": "1e95f23b",
   "metadata": {},
   "outputs": [
    {
     "data": {
      "text/html": [
       "<div>\n",
       "<style scoped>\n",
       "    .dataframe tbody tr th:only-of-type {\n",
       "        vertical-align: middle;\n",
       "    }\n",
       "\n",
       "    .dataframe tbody tr th {\n",
       "        vertical-align: top;\n",
       "    }\n",
       "\n",
       "    .dataframe thead th {\n",
       "        text-align: right;\n",
       "    }\n",
       "</style>\n",
       "<table border=\"1\" class=\"dataframe\">\n",
       "  <thead>\n",
       "    <tr style=\"text-align: right;\">\n",
       "      <th></th>\n",
       "      <th>RI</th>\n",
       "      <th>Na</th>\n",
       "      <th>Mg</th>\n",
       "      <th>Al</th>\n",
       "      <th>Si</th>\n",
       "      <th>K</th>\n",
       "      <th>Ca</th>\n",
       "      <th>Ba</th>\n",
       "      <th>Fe</th>\n",
       "    </tr>\n",
       "  </thead>\n",
       "  <tbody>\n",
       "    <tr>\n",
       "      <th>209</th>\n",
       "      <td>1.51623</td>\n",
       "      <td>14.14</td>\n",
       "      <td>0.0</td>\n",
       "      <td>2.88</td>\n",
       "      <td>72.61</td>\n",
       "      <td>0.08</td>\n",
       "      <td>9.18</td>\n",
       "      <td>1.06</td>\n",
       "      <td>0.0</td>\n",
       "    </tr>\n",
       "    <tr>\n",
       "      <th>210</th>\n",
       "      <td>1.51685</td>\n",
       "      <td>14.92</td>\n",
       "      <td>0.0</td>\n",
       "      <td>1.99</td>\n",
       "      <td>73.06</td>\n",
       "      <td>0.00</td>\n",
       "      <td>8.40</td>\n",
       "      <td>1.59</td>\n",
       "      <td>0.0</td>\n",
       "    </tr>\n",
       "    <tr>\n",
       "      <th>211</th>\n",
       "      <td>1.52065</td>\n",
       "      <td>14.36</td>\n",
       "      <td>0.0</td>\n",
       "      <td>2.02</td>\n",
       "      <td>73.42</td>\n",
       "      <td>0.00</td>\n",
       "      <td>8.44</td>\n",
       "      <td>1.64</td>\n",
       "      <td>0.0</td>\n",
       "    </tr>\n",
       "    <tr>\n",
       "      <th>212</th>\n",
       "      <td>1.51651</td>\n",
       "      <td>14.38</td>\n",
       "      <td>0.0</td>\n",
       "      <td>1.94</td>\n",
       "      <td>73.61</td>\n",
       "      <td>0.00</td>\n",
       "      <td>8.48</td>\n",
       "      <td>1.57</td>\n",
       "      <td>0.0</td>\n",
       "    </tr>\n",
       "    <tr>\n",
       "      <th>213</th>\n",
       "      <td>1.51711</td>\n",
       "      <td>14.23</td>\n",
       "      <td>0.0</td>\n",
       "      <td>2.08</td>\n",
       "      <td>73.36</td>\n",
       "      <td>0.00</td>\n",
       "      <td>8.62</td>\n",
       "      <td>1.67</td>\n",
       "      <td>0.0</td>\n",
       "    </tr>\n",
       "  </tbody>\n",
       "</table>\n",
       "</div>"
      ],
      "text/plain": [
       "          RI     Na   Mg    Al     Si     K    Ca    Ba   Fe\n",
       "209  1.51623  14.14  0.0  2.88  72.61  0.08  9.18  1.06  0.0\n",
       "210  1.51685  14.92  0.0  1.99  73.06  0.00  8.40  1.59  0.0\n",
       "211  1.52065  14.36  0.0  2.02  73.42  0.00  8.44  1.64  0.0\n",
       "212  1.51651  14.38  0.0  1.94  73.61  0.00  8.48  1.57  0.0\n",
       "213  1.51711  14.23  0.0  2.08  73.36  0.00  8.62  1.67  0.0"
      ]
     },
     "execution_count": 127,
     "metadata": {},
     "output_type": "execute_result"
    }
   ],
   "source": [
    "df.tail()"
   ]
  },
  {
   "cell_type": "code",
   "execution_count": 128,
   "id": "63f46fce",
   "metadata": {},
   "outputs": [
    {
     "data": {
      "text/plain": [
       "RI    float64\n",
       "Na    float64\n",
       "Mg    float64\n",
       "Al    float64\n",
       "Si    float64\n",
       "K     float64\n",
       "Ca    float64\n",
       "Ba    float64\n",
       "Fe    float64\n",
       "dtype: object"
      ]
     },
     "execution_count": 128,
     "metadata": {},
     "output_type": "execute_result"
    }
   ],
   "source": [
    "df.dtypes"
   ]
  },
  {
   "cell_type": "code",
   "execution_count": 129,
   "id": "a9a1f666",
   "metadata": {},
   "outputs": [
    {
     "data": {
      "text/plain": [
       "RI    0\n",
       "Na    0\n",
       "Mg    0\n",
       "Al    0\n",
       "Si    0\n",
       "K     0\n",
       "Ca    0\n",
       "Ba    0\n",
       "Fe    0\n",
       "dtype: int64"
      ]
     },
     "execution_count": 129,
     "metadata": {},
     "output_type": "execute_result"
    }
   ],
   "source": [
    "df.isna().sum()"
   ]
  },
  {
   "cell_type": "code",
   "execution_count": 130,
   "id": "8e9a4788",
   "metadata": {},
   "outputs": [
    {
     "data": {
      "text/html": [
       "<div>\n",
       "<style scoped>\n",
       "    .dataframe tbody tr th:only-of-type {\n",
       "        vertical-align: middle;\n",
       "    }\n",
       "\n",
       "    .dataframe tbody tr th {\n",
       "        vertical-align: top;\n",
       "    }\n",
       "\n",
       "    .dataframe thead th {\n",
       "        text-align: right;\n",
       "    }\n",
       "</style>\n",
       "<table border=\"1\" class=\"dataframe\">\n",
       "  <thead>\n",
       "    <tr style=\"text-align: right;\">\n",
       "      <th></th>\n",
       "      <th>RI</th>\n",
       "      <th>Na</th>\n",
       "      <th>Mg</th>\n",
       "      <th>Al</th>\n",
       "      <th>Si</th>\n",
       "      <th>K</th>\n",
       "      <th>Ca</th>\n",
       "      <th>Ba</th>\n",
       "      <th>Fe</th>\n",
       "    </tr>\n",
       "  </thead>\n",
       "  <tbody>\n",
       "    <tr>\n",
       "      <th>0</th>\n",
       "      <td>1.52101</td>\n",
       "      <td>13.64</td>\n",
       "      <td>4.49</td>\n",
       "      <td>1.10</td>\n",
       "      <td>71.78</td>\n",
       "      <td>0.06</td>\n",
       "      <td>8.75</td>\n",
       "      <td>0.00</td>\n",
       "      <td>0.0</td>\n",
       "    </tr>\n",
       "    <tr>\n",
       "      <th>1</th>\n",
       "      <td>1.51761</td>\n",
       "      <td>13.89</td>\n",
       "      <td>3.60</td>\n",
       "      <td>1.36</td>\n",
       "      <td>72.73</td>\n",
       "      <td>0.48</td>\n",
       "      <td>7.83</td>\n",
       "      <td>0.00</td>\n",
       "      <td>0.0</td>\n",
       "    </tr>\n",
       "    <tr>\n",
       "      <th>2</th>\n",
       "      <td>1.51618</td>\n",
       "      <td>13.53</td>\n",
       "      <td>3.55</td>\n",
       "      <td>1.54</td>\n",
       "      <td>72.99</td>\n",
       "      <td>0.39</td>\n",
       "      <td>7.78</td>\n",
       "      <td>0.00</td>\n",
       "      <td>0.0</td>\n",
       "    </tr>\n",
       "    <tr>\n",
       "      <th>3</th>\n",
       "      <td>1.51766</td>\n",
       "      <td>13.21</td>\n",
       "      <td>3.69</td>\n",
       "      <td>1.29</td>\n",
       "      <td>72.61</td>\n",
       "      <td>0.57</td>\n",
       "      <td>8.22</td>\n",
       "      <td>0.00</td>\n",
       "      <td>0.0</td>\n",
       "    </tr>\n",
       "    <tr>\n",
       "      <th>4</th>\n",
       "      <td>1.51742</td>\n",
       "      <td>13.27</td>\n",
       "      <td>3.62</td>\n",
       "      <td>1.24</td>\n",
       "      <td>73.08</td>\n",
       "      <td>0.55</td>\n",
       "      <td>8.07</td>\n",
       "      <td>0.00</td>\n",
       "      <td>0.0</td>\n",
       "    </tr>\n",
       "    <tr>\n",
       "      <th>...</th>\n",
       "      <td>...</td>\n",
       "      <td>...</td>\n",
       "      <td>...</td>\n",
       "      <td>...</td>\n",
       "      <td>...</td>\n",
       "      <td>...</td>\n",
       "      <td>...</td>\n",
       "      <td>...</td>\n",
       "      <td>...</td>\n",
       "    </tr>\n",
       "    <tr>\n",
       "      <th>209</th>\n",
       "      <td>1.51623</td>\n",
       "      <td>14.14</td>\n",
       "      <td>0.00</td>\n",
       "      <td>2.88</td>\n",
       "      <td>72.61</td>\n",
       "      <td>0.08</td>\n",
       "      <td>9.18</td>\n",
       "      <td>1.06</td>\n",
       "      <td>0.0</td>\n",
       "    </tr>\n",
       "    <tr>\n",
       "      <th>210</th>\n",
       "      <td>1.51685</td>\n",
       "      <td>14.92</td>\n",
       "      <td>0.00</td>\n",
       "      <td>1.99</td>\n",
       "      <td>73.06</td>\n",
       "      <td>0.00</td>\n",
       "      <td>8.40</td>\n",
       "      <td>1.59</td>\n",
       "      <td>0.0</td>\n",
       "    </tr>\n",
       "    <tr>\n",
       "      <th>211</th>\n",
       "      <td>1.52065</td>\n",
       "      <td>14.36</td>\n",
       "      <td>0.00</td>\n",
       "      <td>2.02</td>\n",
       "      <td>73.42</td>\n",
       "      <td>0.00</td>\n",
       "      <td>8.44</td>\n",
       "      <td>1.64</td>\n",
       "      <td>0.0</td>\n",
       "    </tr>\n",
       "    <tr>\n",
       "      <th>212</th>\n",
       "      <td>1.51651</td>\n",
       "      <td>14.38</td>\n",
       "      <td>0.00</td>\n",
       "      <td>1.94</td>\n",
       "      <td>73.61</td>\n",
       "      <td>0.00</td>\n",
       "      <td>8.48</td>\n",
       "      <td>1.57</td>\n",
       "      <td>0.0</td>\n",
       "    </tr>\n",
       "    <tr>\n",
       "      <th>213</th>\n",
       "      <td>1.51711</td>\n",
       "      <td>14.23</td>\n",
       "      <td>0.00</td>\n",
       "      <td>2.08</td>\n",
       "      <td>73.36</td>\n",
       "      <td>0.00</td>\n",
       "      <td>8.62</td>\n",
       "      <td>1.67</td>\n",
       "      <td>0.0</td>\n",
       "    </tr>\n",
       "  </tbody>\n",
       "</table>\n",
       "<p>214 rows × 9 columns</p>\n",
       "</div>"
      ],
      "text/plain": [
       "          RI     Na    Mg    Al     Si     K    Ca    Ba   Fe\n",
       "0    1.52101  13.64  4.49  1.10  71.78  0.06  8.75  0.00  0.0\n",
       "1    1.51761  13.89  3.60  1.36  72.73  0.48  7.83  0.00  0.0\n",
       "2    1.51618  13.53  3.55  1.54  72.99  0.39  7.78  0.00  0.0\n",
       "3    1.51766  13.21  3.69  1.29  72.61  0.57  8.22  0.00  0.0\n",
       "4    1.51742  13.27  3.62  1.24  73.08  0.55  8.07  0.00  0.0\n",
       "..       ...    ...   ...   ...    ...   ...   ...   ...  ...\n",
       "209  1.51623  14.14  0.00  2.88  72.61  0.08  9.18  1.06  0.0\n",
       "210  1.51685  14.92  0.00  1.99  73.06  0.00  8.40  1.59  0.0\n",
       "211  1.52065  14.36  0.00  2.02  73.42  0.00  8.44  1.64  0.0\n",
       "212  1.51651  14.38  0.00  1.94  73.61  0.00  8.48  1.57  0.0\n",
       "213  1.51711  14.23  0.00  2.08  73.36  0.00  8.62  1.67  0.0\n",
       "\n",
       "[214 rows x 9 columns]"
      ]
     },
     "execution_count": 130,
     "metadata": {},
     "output_type": "execute_result"
    }
   ],
   "source": [
    "x=df.iloc[:,:]\n",
    "x"
   ]
  },
  {
   "cell_type": "code",
   "execution_count": 131,
   "id": "ea769c54",
   "metadata": {},
   "outputs": [
    {
     "name": "stderr",
     "output_type": "stream",
     "text": [
      "c:\\Users\\Dell\\anaconda3\\Lib\\site-packages\\sklearn\\cluster\\_kmeans.py:1446: UserWarning: KMeans is known to have a memory leak on Windows with MKL, when there are less chunks than available threads. You can avoid it by setting the environment variable OMP_NUM_THREADS=1.\n",
      "  warnings.warn(\n",
      "c:\\Users\\Dell\\anaconda3\\Lib\\site-packages\\sklearn\\cluster\\_kmeans.py:1446: UserWarning: KMeans is known to have a memory leak on Windows with MKL, when there are less chunks than available threads. You can avoid it by setting the environment variable OMP_NUM_THREADS=1.\n",
      "  warnings.warn(\n",
      "c:\\Users\\Dell\\anaconda3\\Lib\\site-packages\\sklearn\\cluster\\_kmeans.py:1446: UserWarning: KMeans is known to have a memory leak on Windows with MKL, when there are less chunks than available threads. You can avoid it by setting the environment variable OMP_NUM_THREADS=1.\n",
      "  warnings.warn(\n",
      "c:\\Users\\Dell\\anaconda3\\Lib\\site-packages\\sklearn\\cluster\\_kmeans.py:1446: UserWarning: KMeans is known to have a memory leak on Windows with MKL, when there are less chunks than available threads. You can avoid it by setting the environment variable OMP_NUM_THREADS=1.\n",
      "  warnings.warn(\n",
      "c:\\Users\\Dell\\anaconda3\\Lib\\site-packages\\sklearn\\cluster\\_kmeans.py:1446: UserWarning: KMeans is known to have a memory leak on Windows with MKL, when there are less chunks than available threads. You can avoid it by setting the environment variable OMP_NUM_THREADS=1.\n",
      "  warnings.warn(\n",
      "c:\\Users\\Dell\\anaconda3\\Lib\\site-packages\\sklearn\\cluster\\_kmeans.py:1446: UserWarning: KMeans is known to have a memory leak on Windows with MKL, when there are less chunks than available threads. You can avoid it by setting the environment variable OMP_NUM_THREADS=1.\n",
      "  warnings.warn(\n",
      "c:\\Users\\Dell\\anaconda3\\Lib\\site-packages\\sklearn\\cluster\\_kmeans.py:1446: UserWarning: KMeans is known to have a memory leak on Windows with MKL, when there are less chunks than available threads. You can avoid it by setting the environment variable OMP_NUM_THREADS=1.\n",
      "  warnings.warn(\n",
      "c:\\Users\\Dell\\anaconda3\\Lib\\site-packages\\sklearn\\cluster\\_kmeans.py:1446: UserWarning: KMeans is known to have a memory leak on Windows with MKL, when there are less chunks than available threads. You can avoid it by setting the environment variable OMP_NUM_THREADS=1.\n",
      "  warnings.warn(\n",
      "c:\\Users\\Dell\\anaconda3\\Lib\\site-packages\\sklearn\\cluster\\_kmeans.py:1446: UserWarning: KMeans is known to have a memory leak on Windows with MKL, when there are less chunks than available threads. You can avoid it by setting the environment variable OMP_NUM_THREADS=1.\n",
      "  warnings.warn(\n",
      "c:\\Users\\Dell\\anaconda3\\Lib\\site-packages\\sklearn\\cluster\\_kmeans.py:1446: UserWarning: KMeans is known to have a memory leak on Windows with MKL, when there are less chunks than available threads. You can avoid it by setting the environment variable OMP_NUM_THREADS=1.\n",
      "  warnings.warn(\n"
     ]
    }
   ],
   "source": [
    "# k value\n",
    "# elbow points\n",
    "# find suitable number of clusters\n",
    "from sklearn.cluster import KMeans\n",
    "wcss=[]  #[var1 var2 var3...............var10]\n",
    "for i in range(1,11): #i=1 2 3 4 ......10\n",
    "    data=KMeans(n_clusters=i,init='k-means++',random_state=42)\n",
    "    data.fit(x)\n",
    "    wcss.append(data.inertia_)"
   ]
  },
  {
   "cell_type": "code",
   "execution_count": 132,
   "id": "6a0f4ed3",
   "metadata": {},
   "outputs": [
    {
     "name": "stdout",
     "output_type": "stream",
     "text": [
      "[1342.7570466443026, 820.0278544371247, 726.9744405238482, 498.24059628946037, 402.07299586350894, 336.29263337746863, 292.8423071754911, 273.1446137278083, 245.35092231886674, 239.58544128460386]\n"
     ]
    }
   ],
   "source": [
    "print(wcss)"
   ]
  },
  {
   "cell_type": "code",
   "execution_count": 133,
   "id": "dd1237e6",
   "metadata": {},
   "outputs": [
    {
     "data": {
      "image/png": "[encoded data removed]",
      "text/plain": [
       "<Figure size 640x480 with 1 Axes>"
      ]
     },
     "metadata": {},
     "output_type": "display_data"
    }
   ],
   "source": [
    "plt.plot(range(1,11),wcss,marker='o')\n",
    "plt.grid()"
   ]
  },
  {
   "cell_type": "code",
   "execution_count": 134,
   "id": "0eaf83eb",
   "metadata": {},
   "outputs": [
    {
     "name": "stderr",
     "output_type": "stream",
     "text": [
      "c:\\Users\\Dell\\anaconda3\\Lib\\site-packages\\sklearn\\cluster\\_kmeans.py:1446: UserWarning: KMeans is known to have a memory leak on Windows with MKL, when there are less chunks than available threads. You can avoid it by setting the environment variable OMP_NUM_THREADS=1.\n",
      "  warnings.warn(\n"
     ]
    },
    {
     "data": {
      "text/plain": [
       "array([2, 4, 4, 4, 4, 4, 4, 4, 4, 4, 4, 4, 4, 4, 4, 4, 4, 2, 2, 4, 4, 2,\n",
       "       4, 4, 4, 4, 4, 4, 4, 4, 4, 4, 4, 4, 4, 4, 2, 4, 2, 2, 4, 4, 4, 2,\n",
       "       4, 2, 4, 2, 2, 2, 2, 4, 4, 4, 4, 4, 4, 4, 4, 4, 4, 2, 2, 2, 2, 2,\n",
       "       2, 2, 2, 2, 0, 4, 4, 4, 4, 4, 4, 4, 4, 4, 4, 4, 4, 4, 0, 4, 4, 4,\n",
       "       4, 4, 4, 4, 4, 4, 4, 4, 4, 4, 4, 4, 4, 4, 4, 2, 2, 5, 5, 5, 3, 3,\n",
       "       5, 5, 5, 4, 4, 4, 4, 4, 4, 4, 4, 4, 4, 4, 4, 4, 4, 2, 2, 3, 3, 5,\n",
       "       4, 4, 4, 4, 4, 4, 4, 4, 4, 4, 4, 4, 4, 4, 4, 4, 4, 4, 4, 2, 4, 4,\n",
       "       4, 4, 4, 2, 4, 2, 4, 4, 2, 0, 3, 3, 3, 3, 3, 3, 3, 6, 6, 3, 3, 3,\n",
       "       2, 2, 2, 2, 1, 1, 3, 3, 1, 0, 0, 4, 2, 2, 1, 1, 1, 1, 1, 1, 1, 1,\n",
       "       1, 1, 1, 3, 1, 1, 1, 1, 1, 1, 1, 1, 1, 1, 1, 1])"
      ]
     },
     "execution_count": 134,
     "metadata": {},
     "output_type": "execute_result"
    }
   ],
   "source": [
    "# n_clusters =7\n",
    "data1=KMeans(n_clusters=7,init='k-means++',random_state=42)\n",
    "data1.fit(x)\n",
    "y_predict=data1.predict(x)\n",
    "y_predict"
   ]
  },
  {
   "cell_type": "code",
   "execution_count": 135,
   "id": "7b1b790c",
   "metadata": {},
   "outputs": [
    {
     "data": {
      "text/html": [
       "<div>\n",
       "<style scoped>\n",
       "    .dataframe tbody tr th:only-of-type {\n",
       "        vertical-align: middle;\n",
       "    }\n",
       "\n",
       "    .dataframe tbody tr th {\n",
       "        vertical-align: top;\n",
       "    }\n",
       "\n",
       "    .dataframe thead th {\n",
       "        text-align: right;\n",
       "    }\n",
       "</style>\n",
       "<table border=\"1\" class=\"dataframe\">\n",
       "  <thead>\n",
       "    <tr style=\"text-align: right;\">\n",
       "      <th></th>\n",
       "      <th>RI</th>\n",
       "      <th>Na</th>\n",
       "      <th>Mg</th>\n",
       "      <th>Al</th>\n",
       "      <th>Si</th>\n",
       "      <th>K</th>\n",
       "      <th>Ca</th>\n",
       "      <th>Ba</th>\n",
       "      <th>Fe</th>\n",
       "      <th>clusters</th>\n",
       "    </tr>\n",
       "  </thead>\n",
       "  <tbody>\n",
       "    <tr>\n",
       "      <th>0</th>\n",
       "      <td>1.52101</td>\n",
       "      <td>13.64</td>\n",
       "      <td>4.49</td>\n",
       "      <td>1.10</td>\n",
       "      <td>71.78</td>\n",
       "      <td>0.06</td>\n",
       "      <td>8.75</td>\n",
       "      <td>0.00</td>\n",
       "      <td>0.0</td>\n",
       "      <td>2</td>\n",
       "    </tr>\n",
       "    <tr>\n",
       "      <th>1</th>\n",
       "      <td>1.51761</td>\n",
       "      <td>13.89</td>\n",
       "      <td>3.60</td>\n",
       "      <td>1.36</td>\n",
       "      <td>72.73</td>\n",
       "      <td>0.48</td>\n",
       "      <td>7.83</td>\n",
       "      <td>0.00</td>\n",
       "      <td>0.0</td>\n",
       "      <td>4</td>\n",
       "    </tr>\n",
       "    <tr>\n",
       "      <th>2</th>\n",
       "      <td>1.51618</td>\n",
       "      <td>13.53</td>\n",
       "      <td>3.55</td>\n",
       "      <td>1.54</td>\n",
       "      <td>72.99</td>\n",
       "      <td>0.39</td>\n",
       "      <td>7.78</td>\n",
       "      <td>0.00</td>\n",
       "      <td>0.0</td>\n",
       "      <td>4</td>\n",
       "    </tr>\n",
       "    <tr>\n",
       "      <th>3</th>\n",
       "      <td>1.51766</td>\n",
       "      <td>13.21</td>\n",
       "      <td>3.69</td>\n",
       "      <td>1.29</td>\n",
       "      <td>72.61</td>\n",
       "      <td>0.57</td>\n",
       "      <td>8.22</td>\n",
       "      <td>0.00</td>\n",
       "      <td>0.0</td>\n",
       "      <td>4</td>\n",
       "    </tr>\n",
       "    <tr>\n",
       "      <th>4</th>\n",
       "      <td>1.51742</td>\n",
       "      <td>13.27</td>\n",
       "      <td>3.62</td>\n",
       "      <td>1.24</td>\n",
       "      <td>73.08</td>\n",
       "      <td>0.55</td>\n",
       "      <td>8.07</td>\n",
       "      <td>0.00</td>\n",
       "      <td>0.0</td>\n",
       "      <td>4</td>\n",
       "    </tr>\n",
       "    <tr>\n",
       "      <th>...</th>\n",
       "      <td>...</td>\n",
       "      <td>...</td>\n",
       "      <td>...</td>\n",
       "      <td>...</td>\n",
       "      <td>...</td>\n",
       "      <td>...</td>\n",
       "      <td>...</td>\n",
       "      <td>...</td>\n",
       "      <td>...</td>\n",
       "      <td>...</td>\n",
       "    </tr>\n",
       "    <tr>\n",
       "      <th>209</th>\n",
       "      <td>1.51623</td>\n",
       "      <td>14.14</td>\n",
       "      <td>0.00</td>\n",
       "      <td>2.88</td>\n",
       "      <td>72.61</td>\n",
       "      <td>0.08</td>\n",
       "      <td>9.18</td>\n",
       "      <td>1.06</td>\n",
       "      <td>0.0</td>\n",
       "      <td>1</td>\n",
       "    </tr>\n",
       "    <tr>\n",
       "      <th>210</th>\n",
       "      <td>1.51685</td>\n",
       "      <td>14.92</td>\n",
       "      <td>0.00</td>\n",
       "      <td>1.99</td>\n",
       "      <td>73.06</td>\n",
       "      <td>0.00</td>\n",
       "      <td>8.40</td>\n",
       "      <td>1.59</td>\n",
       "      <td>0.0</td>\n",
       "      <td>1</td>\n",
       "    </tr>\n",
       "    <tr>\n",
       "      <th>211</th>\n",
       "      <td>1.52065</td>\n",
       "      <td>14.36</td>\n",
       "      <td>0.00</td>\n",
       "      <td>2.02</td>\n",
       "      <td>73.42</td>\n",
       "      <td>0.00</td>\n",
       "      <td>8.44</td>\n",
       "      <td>1.64</td>\n",
       "      <td>0.0</td>\n",
       "      <td>1</td>\n",
       "    </tr>\n",
       "    <tr>\n",
       "      <th>212</th>\n",
       "      <td>1.51651</td>\n",
       "      <td>14.38</td>\n",
       "      <td>0.00</td>\n",
       "      <td>1.94</td>\n",
       "      <td>73.61</td>\n",
       "      <td>0.00</td>\n",
       "      <td>8.48</td>\n",
       "      <td>1.57</td>\n",
       "      <td>0.0</td>\n",
       "      <td>1</td>\n",
       "    </tr>\n",
       "    <tr>\n",
       "      <th>213</th>\n",
       "      <td>1.51711</td>\n",
       "      <td>14.23</td>\n",
       "      <td>0.00</td>\n",
       "      <td>2.08</td>\n",
       "      <td>73.36</td>\n",
       "      <td>0.00</td>\n",
       "      <td>8.62</td>\n",
       "      <td>1.67</td>\n",
       "      <td>0.0</td>\n",
       "      <td>1</td>\n",
       "    </tr>\n",
       "  </tbody>\n",
       "</table>\n",
       "<p>214 rows × 10 columns</p>\n",
       "</div>"
      ],
      "text/plain": [
       "          RI     Na    Mg    Al     Si     K    Ca    Ba   Fe  clusters\n",
       "0    1.52101  13.64  4.49  1.10  71.78  0.06  8.75  0.00  0.0         2\n",
       "1    1.51761  13.89  3.60  1.36  72.73  0.48  7.83  0.00  0.0         4\n",
       "2    1.51618  13.53  3.55  1.54  72.99  0.39  7.78  0.00  0.0         4\n",
       "3    1.51766  13.21  3.69  1.29  72.61  0.57  8.22  0.00  0.0         4\n",
       "4    1.51742  13.27  3.62  1.24  73.08  0.55  8.07  0.00  0.0         4\n",
       "..       ...    ...   ...   ...    ...   ...   ...   ...  ...       ...\n",
       "209  1.51623  14.14  0.00  2.88  72.61  0.08  9.18  1.06  0.0         1\n",
       "210  1.51685  14.92  0.00  1.99  73.06  0.00  8.40  1.59  0.0         1\n",
       "211  1.52065  14.36  0.00  2.02  73.42  0.00  8.44  1.64  0.0         1\n",
       "212  1.51651  14.38  0.00  1.94  73.61  0.00  8.48  1.57  0.0         1\n",
       "213  1.51711  14.23  0.00  2.08  73.36  0.00  8.62  1.67  0.0         1\n",
       "\n",
       "[214 rows x 10 columns]"
      ]
     },
     "execution_count": 135,
     "metadata": {},
     "output_type": "execute_result"
    }
   ],
   "source": [
    "# to attach output (y_predict)\n",
    "x['clusters']=y_predict\n",
    "x"
   ]
  },
  {
   "cell_type": "code",
   "execution_count": 136,
   "id": "32c26590",
   "metadata": {},
   "outputs": [
    {
     "data": {
      "text/plain": [
       "clusters\n",
       "4    121\n",
       "2     36\n",
       "1     26\n",
       "3     17\n",
       "5      7\n",
       "0      5\n",
       "6      2\n",
       "Name: count, dtype: int64"
      ]
     },
     "execution_count": 136,
     "metadata": {},
     "output_type": "execute_result"
    }
   ],
   "source": [
    "x['clusters'].value_counts()"
   ]
  },
  {
   "cell_type": "code",
   "execution_count": 137,
   "id": "cbd0bb15",
   "metadata": {},
   "outputs": [
    {
     "data": {
      "text/plain": [
       "<Axes: xlabel='clusters', ylabel='count'>"
      ]
     },
     "execution_count": 137,
     "metadata": {},
     "output_type": "execute_result"
    },
    {
     "data": {
      "image/png": "[encoded data removed]",
      "text/plain": [
       "<Figure size 640x480 with 1 Axes>"
      ]
     },
     "metadata": {},
     "output_type": "display_data"
    }
   ],
   "source": [
    "sns.countplot(x='clusters',data=x)"
   ]
  },
  {
   "cell_type": "code",
   "execution_count": 138,
   "id": "b2c7330a",
   "metadata": {},
   "outputs": [
    {
     "data": {
      "text/plain": [
       "(214, 10)"
      ]
     },
     "execution_count": 138,
     "metadata": {},
     "output_type": "execute_result"
    }
   ],
   "source": [
    "x.shape"
   ]
  },
  {
   "cell_type": "code",
   "execution_count": 139,
   "id": "56927ed1",
   "metadata": {},
   "outputs": [
    {
     "data": {
      "text/plain": [
       "RI          float64\n",
       "Na          float64\n",
       "Mg          float64\n",
       "Al          float64\n",
       "Si          float64\n",
       "K           float64\n",
       "Ca          float64\n",
       "Ba          float64\n",
       "Fe          float64\n",
       "clusters      int32\n",
       "dtype: object"
      ]
     },
     "execution_count": 139,
     "metadata": {},
     "output_type": "execute_result"
    }
   ],
   "source": [
    "x.dtypes"
   ]
  },
  {
   "cell_type": "code",
   "execution_count": 140,
   "id": "654984c1",
   "metadata": {},
   "outputs": [
    {
     "data": {
      "text/plain": [
       "RI          0\n",
       "Na          0\n",
       "Mg          0\n",
       "Al          0\n",
       "Si          0\n",
       "K           0\n",
       "Ca          0\n",
       "Ba          0\n",
       "Fe          0\n",
       "clusters    0\n",
       "dtype: int64"
      ]
     },
     "execution_count": 140,
     "metadata": {},
     "output_type": "execute_result"
    }
   ],
   "source": [
    "x.isna().sum()"
   ]
  },
  {
   "cell_type": "code",
   "execution_count": 141,
   "id": "788e6159",
   "metadata": {},
   "outputs": [
    {
     "data": {
      "image/png": "[encoded data removed]",
      "text/plain": [
       "<Figure size 1200x600 with 1 Axes>"
      ]
     },
     "metadata": {},
     "output_type": "display_data"
    }
   ],
   "source": [
    "plt.figure(figsize=(12, 6))\n",
    "sns.boxplot(data=df.select_dtypes(include=['number']))\n",
    "plt.xticks(rotation=45)\n",
    "plt.title('Boxplots of Numeric Columns')\n",
    "plt.tight_layout()\n",
    "plt.show()"
   ]
  },
  {
   "cell_type": "code",
   "execution_count": 142,
   "id": "230f3e68",
   "metadata": {},
   "outputs": [],
   "source": [
    "for col in df.select_dtypes(include='number').columns:\n",
    "    if col == 'clusters':\n",
    "        continue  # skip the target column\n",
    "    Q1 = df[col].quantile(0.25)\n",
    "    Q3 = df[col].quantile(0.75)\n",
    "    IQR = Q3 - Q1\n",
    "    lower = Q1 - 1.5 * IQR\n",
    "    upper = Q3 + 1.5 * IQR\n",
    "    df = df[(df[col] >= lower) & (df[col] <= upper)]"
   ]
  },
  {
   "cell_type": "code",
   "execution_count": 143,
   "id": "19106f6c",
   "metadata": {},
   "outputs": [
    {
     "data": {
      "image/png": "[encoded data removed]",
      "text/plain": [
       "<Figure size 1200x600 with 1 Axes>"
      ]
     },
     "metadata": {},
     "output_type": "display_data"
    }
   ],
   "source": [
    "plt.figure(figsize=(12, 6))\n",
    "sns.boxplot(data=df.select_dtypes(include=['number']))\n",
    "plt.xticks(rotation=45)\n",
    "plt.title('Boxplots After Removing Outliers')\n",
    "plt.tight_layout()\n",
    "plt.show()"
   ]
  },
  {
   "cell_type": "code",
   "execution_count": 144,
   "id": "07d8b0e4",
   "metadata": {},
   "outputs": [
    {
     "data": {
      "text/plain": [
       "array([[ 1.52101, 13.64   ,  4.49   , ...,  8.75   ,  0.     ,  0.     ],\n",
       "       [ 1.51761, 13.89   ,  3.6    , ...,  7.83   ,  0.     ,  0.     ],\n",
       "       [ 1.51618, 13.53   ,  3.55   , ...,  7.78   ,  0.     ,  0.     ],\n",
       "       ...,\n",
       "       [ 1.52065, 14.36   ,  0.     , ...,  8.44   ,  1.64   ,  0.     ],\n",
       "       [ 1.51651, 14.38   ,  0.     , ...,  8.48   ,  1.57   ,  0.     ],\n",
       "       [ 1.51711, 14.23   ,  0.     , ...,  8.62   ,  1.67   ,  0.     ]])"
      ]
     },
     "execution_count": 144,
     "metadata": {},
     "output_type": "execute_result"
    }
   ],
   "source": [
    "X=x.iloc[:,:-1].values\n",
    "X"
   ]
  },
  {
   "cell_type": "code",
   "execution_count": 145,
   "id": "67de2f1d",
   "metadata": {},
   "outputs": [
    {
     "data": {
      "text/plain": [
       "array([2, 4, 4, 4, 4, 4, 4, 4, 4, 4, 4, 4, 4, 4, 4, 4, 4, 2, 2, 4, 4, 2,\n",
       "       4, 4, 4, 4, 4, 4, 4, 4, 4, 4, 4, 4, 4, 4, 2, 4, 2, 2, 4, 4, 4, 2,\n",
       "       4, 2, 4, 2, 2, 2, 2, 4, 4, 4, 4, 4, 4, 4, 4, 4, 4, 2, 2, 2, 2, 2,\n",
       "       2, 2, 2, 2, 0, 4, 4, 4, 4, 4, 4, 4, 4, 4, 4, 4, 4, 4, 0, 4, 4, 4,\n",
       "       4, 4, 4, 4, 4, 4, 4, 4, 4, 4, 4, 4, 4, 4, 4, 2, 2, 5, 5, 5, 3, 3,\n",
       "       5, 5, 5, 4, 4, 4, 4, 4, 4, 4, 4, 4, 4, 4, 4, 4, 4, 2, 2, 3, 3, 5,\n",
       "       4, 4, 4, 4, 4, 4, 4, 4, 4, 4, 4, 4, 4, 4, 4, 4, 4, 4, 4, 2, 4, 4,\n",
       "       4, 4, 4, 2, 4, 2, 4, 4, 2, 0, 3, 3, 3, 3, 3, 3, 3, 6, 6, 3, 3, 3,\n",
       "       2, 2, 2, 2, 1, 1, 3, 3, 1, 0, 0, 4, 2, 2, 1, 1, 1, 1, 1, 1, 1, 1,\n",
       "       1, 1, 1, 3, 1, 1, 1, 1, 1, 1, 1, 1, 1, 1, 1, 1])"
      ]
     },
     "execution_count": 145,
     "metadata": {},
     "output_type": "execute_result"
    }
   ],
   "source": [
    "y=x['clusters'].values\n",
    "y"
   ]
  },
  {
   "cell_type": "code",
   "execution_count": 146,
   "id": "db237ba2",
   "metadata": {},
   "outputs": [
    {
     "data": {
      "text/plain": [
       "array([[ 1.51711, 12.89   ,  3.62   , ...,  8.11   ,  0.     ,  0.     ],\n",
       "       [ 1.52099, 13.69   ,  3.59   , ...,  9.4    ,  0.     ,  0.     ],\n",
       "       [ 1.52222, 14.43   ,  0.     , ..., 11.52   ,  0.     ,  0.08   ],\n",
       "       ...,\n",
       "       [ 1.51588, 13.12   ,  3.41   , ...,  8.39   ,  0.     ,  0.19   ],\n",
       "       [ 1.51852, 14.09   ,  2.19   , ...,  9.32   ,  0.     ,  0.     ],\n",
       "       [ 1.5182 , 12.62   ,  2.76   , ...,  9.42   ,  0.     ,  0.2    ]])"
      ]
     },
     "execution_count": 146,
     "metadata": {},
     "output_type": "execute_result"
    }
   ],
   "source": [
    "from sklearn.model_selection import train_test_split\n",
    "x_train,x_test,y_train,y_test=train_test_split(X,y,test_size=0.30,random_state=42)\n",
    "x_train"
   ]
  },
  {
   "cell_type": "code",
   "execution_count": 147,
   "id": "5eb06bc8",
   "metadata": {},
   "outputs": [
    {
     "data": {
      "text/plain": [
       "array([[1.51755e+00, 1.30000e+01, 3.60000e+00, 1.36000e+00, 7.29900e+01,\n",
       "        5.70000e-01, 8.40000e+00, 0.00000e+00, 1.10000e-01],\n",
       "       [1.51727e+00, 1.47000e+01, 0.00000e+00, 2.34000e+00, 7.32800e+01,\n",
       "        0.00000e+00, 8.95000e+00, 6.60000e-01, 0.00000e+00],\n",
       "       [1.52152e+00, 1.30500e+01, 3.65000e+00, 8.70000e-01, 7.22200e+01,\n",
       "        1.90000e-01, 9.85000e+00, 0.00000e+00, 1.70000e-01],\n",
       "       [1.51602e+00, 1.48500e+01, 0.00000e+00, 2.38000e+00, 7.32800e+01,\n",
       "        0.00000e+00, 8.76000e+00, 6.40000e-01, 9.00000e-02],\n",
       "       [1.51708e+00, 1.37200e+01, 3.68000e+00, 1.81000e+00, 7.20600e+01,\n",
       "        6.40000e-01, 7.88000e+00, 0.00000e+00, 0.00000e+00],\n",
       "       [1.52739e+00, 1.10200e+01, 0.00000e+00, 7.50000e-01, 7.30800e+01,\n",
       "        0.00000e+00, 1.49600e+01, 0.00000e+00, 0.00000e+00],\n",
       "       [1.51761e+00, 1.28100e+01, 3.54000e+00, 1.23000e+00, 7.32400e+01,\n",
       "        5.80000e-01, 8.39000e+00, 0.00000e+00, 0.00000e+00],\n",
       "       [1.51569e+00, 1.32400e+01, 3.49000e+00, 1.47000e+00, 7.32500e+01,\n",
       "        3.80000e-01, 8.03000e+00, 0.00000e+00, 0.00000e+00],\n",
       "       [1.51590e+00, 1.30200e+01, 3.58000e+00, 1.51000e+00, 7.31200e+01,\n",
       "        6.90000e-01, 7.96000e+00, 0.00000e+00, 0.00000e+00],\n",
       "       [1.51660e+00, 1.29900e+01, 3.18000e+00, 1.23000e+00, 7.29700e+01,\n",
       "        5.80000e-01, 8.81000e+00, 0.00000e+00, 2.40000e-01],\n",
       "       [1.51916e+00, 1.41500e+01, 0.00000e+00, 2.09000e+00, 7.27400e+01,\n",
       "        0.00000e+00, 1.08800e+01, 0.00000e+00, 0.00000e+00],\n",
       "       [1.52369e+00, 1.34400e+01, 0.00000e+00, 1.58000e+00, 7.22200e+01,\n",
       "        3.20000e-01, 1.22400e+01, 0.00000e+00, 0.00000e+00],\n",
       "       [1.51851e+00, 1.32000e+01, 3.63000e+00, 1.07000e+00, 7.28300e+01,\n",
       "        5.70000e-01, 8.41000e+00, 9.00000e-02, 1.70000e-01],\n",
       "       [1.51631e+00, 1.33400e+01, 3.57000e+00, 1.57000e+00, 7.28700e+01,\n",
       "        6.10000e-01, 7.89000e+00, 0.00000e+00, 0.00000e+00],\n",
       "       [1.51829e+00, 1.44600e+01, 2.24000e+00, 1.62000e+00, 7.23800e+01,\n",
       "        0.00000e+00, 9.26000e+00, 0.00000e+00, 0.00000e+00],\n",
       "       [1.51969e+00, 1.26400e+01, 0.00000e+00, 1.65000e+00, 7.37500e+01,\n",
       "        3.80000e-01, 1.15300e+01, 0.00000e+00, 0.00000e+00],\n",
       "       [1.51613e+00, 1.38800e+01, 1.78000e+00, 1.79000e+00, 7.31000e+01,\n",
       "        0.00000e+00, 8.67000e+00, 7.60000e-01, 0.00000e+00],\n",
       "       [1.51911e+00, 1.39000e+01, 3.73000e+00, 1.18000e+00, 7.21200e+01,\n",
       "        6.00000e-02, 8.89000e+00, 0.00000e+00, 0.00000e+00],\n",
       "       [1.51900e+00, 1.34900e+01, 3.48000e+00, 1.35000e+00, 7.19500e+01,\n",
       "        5.50000e-01, 9.00000e+00, 0.00000e+00, 0.00000e+00],\n",
       "       [1.51115e+00, 1.73800e+01, 0.00000e+00, 3.40000e-01, 7.54100e+01,\n",
       "        0.00000e+00, 6.65000e+00, 0.00000e+00, 0.00000e+00],\n",
       "       [1.51689e+00, 1.26700e+01, 2.88000e+00, 1.71000e+00, 7.32100e+01,\n",
       "        7.30000e-01, 8.54000e+00, 0.00000e+00, 0.00000e+00],\n",
       "       [1.51623e+00, 1.41400e+01, 0.00000e+00, 2.88000e+00, 7.26100e+01,\n",
       "        8.00000e-02, 9.18000e+00, 1.06000e+00, 0.00000e+00],\n",
       "       [1.52065e+00, 1.43600e+01, 0.00000e+00, 2.02000e+00, 7.34200e+01,\n",
       "        0.00000e+00, 8.44000e+00, 1.64000e+00, 0.00000e+00],\n",
       "       [1.51545e+00, 1.41400e+01, 0.00000e+00, 2.68000e+00, 7.33900e+01,\n",
       "        8.00000e-02, 9.07000e+00, 6.10000e-01, 5.00000e-02],\n",
       "       [1.51670e+00, 1.32400e+01, 3.57000e+00, 1.38000e+00, 7.27000e+01,\n",
       "        5.60000e-01, 8.44000e+00, 0.00000e+00, 1.00000e-01],\n",
       "       [1.52410e+00, 1.38300e+01, 2.90000e+00, 1.17000e+00, 7.11500e+01,\n",
       "        8.00000e-02, 1.07900e+01, 0.00000e+00, 0.00000e+00],\n",
       "       [1.51768e+00, 1.26500e+01, 3.56000e+00, 1.30000e+00, 7.30800e+01,\n",
       "        6.10000e-01, 8.69000e+00, 0.00000e+00, 1.40000e-01],\n",
       "       [1.51764e+00, 1.29800e+01, 3.54000e+00, 1.21000e+00, 7.30000e+01,\n",
       "        6.50000e-01, 8.53000e+00, 0.00000e+00, 0.00000e+00],\n",
       "       [1.52119e+00, 1.29700e+01, 3.30000e-01, 1.51000e+00, 7.33900e+01,\n",
       "        1.30000e-01, 1.12700e+01, 0.00000e+00, 2.80000e-01],\n",
       "       [1.51784e+00, 1.26800e+01, 3.67000e+00, 1.16000e+00, 7.31100e+01,\n",
       "        6.10000e-01, 8.70000e+00, 0.00000e+00, 0.00000e+00],\n",
       "       [1.51769e+00, 1.24500e+01, 2.71000e+00, 1.29000e+00, 7.37000e+01,\n",
       "        5.60000e-01, 9.06000e+00, 0.00000e+00, 2.40000e-01],\n",
       "       [1.51674e+00, 1.27900e+01, 3.52000e+00, 1.54000e+00, 7.33600e+01,\n",
       "        6.60000e-01, 7.90000e+00, 0.00000e+00, 0.00000e+00],\n",
       "       [1.51776e+00, 1.35300e+01, 3.41000e+00, 1.52000e+00, 7.20400e+01,\n",
       "        5.80000e-01, 8.79000e+00, 0.00000e+00, 0.00000e+00],\n",
       "       [1.51590e+00, 1.32400e+01, 3.34000e+00, 1.47000e+00, 7.31000e+01,\n",
       "        3.90000e-01, 8.22000e+00, 0.00000e+00, 0.00000e+00],\n",
       "       [1.52300e+00, 1.33100e+01, 3.58000e+00, 8.20000e-01, 7.19900e+01,\n",
       "        1.20000e-01, 1.01700e+01, 0.00000e+00, 3.00000e-02],\n",
       "       [1.51658e+00, 1.48000e+01, 0.00000e+00, 1.99000e+00, 7.31100e+01,\n",
       "        0.00000e+00, 8.28000e+00, 1.71000e+00, 0.00000e+00],\n",
       "       [1.51316e+00, 1.30200e+01, 0.00000e+00, 3.04000e+00, 7.04800e+01,\n",
       "        6.21000e+00, 6.96000e+00, 0.00000e+00, 0.00000e+00],\n",
       "       [1.51779e+00, 1.36400e+01, 3.65000e+00, 6.50000e-01, 7.30000e+01,\n",
       "        6.00000e-02, 8.93000e+00, 0.00000e+00, 0.00000e+00],\n",
       "       [1.51743e+00, 1.22000e+01, 3.25000e+00, 1.16000e+00, 7.35500e+01,\n",
       "        6.20000e-01, 8.90000e+00, 0.00000e+00, 2.40000e-01],\n",
       "       [1.51409e+00, 1.42500e+01, 3.09000e+00, 2.08000e+00, 7.22800e+01,\n",
       "        1.10000e+00, 7.08000e+00, 0.00000e+00, 0.00000e+00],\n",
       "       [1.51730e+00, 1.23500e+01, 2.72000e+00, 1.63000e+00, 7.28700e+01,\n",
       "        7.00000e-01, 9.23000e+00, 0.00000e+00, 0.00000e+00],\n",
       "       [1.51508e+00, 1.51500e+01, 0.00000e+00, 2.25000e+00, 7.35000e+01,\n",
       "        0.00000e+00, 8.34000e+00, 6.30000e-01, 0.00000e+00],\n",
       "       [1.51905e+00, 1.36000e+01, 3.62000e+00, 1.11000e+00, 7.26400e+01,\n",
       "        1.40000e-01, 8.76000e+00, 0.00000e+00, 0.00000e+00],\n",
       "       [1.51590e+00, 1.28200e+01, 3.52000e+00, 1.90000e+00, 7.28600e+01,\n",
       "        6.90000e-01, 7.97000e+00, 0.00000e+00, 0.00000e+00],\n",
       "       [1.51934e+00, 1.36400e+01, 3.54000e+00, 7.50000e-01, 7.26500e+01,\n",
       "        1.60000e-01, 8.89000e+00, 1.50000e-01, 2.40000e-01],\n",
       "       [1.51818e+00, 1.37200e+01, 0.00000e+00, 5.60000e-01, 7.44500e+01,\n",
       "        0.00000e+00, 1.09900e+01, 0.00000e+00, 0.00000e+00],\n",
       "       [1.52081e+00, 1.37800e+01, 2.28000e+00, 1.43000e+00, 7.19900e+01,\n",
       "        4.90000e-01, 9.85000e+00, 0.00000e+00, 1.70000e-01],\n",
       "       [1.51860e+00, 1.33600e+01, 3.43000e+00, 1.43000e+00, 7.22600e+01,\n",
       "        5.10000e-01, 8.60000e+00, 0.00000e+00, 0.00000e+00],\n",
       "       [1.52068e+00, 1.35500e+01, 2.09000e+00, 1.67000e+00, 7.21800e+01,\n",
       "        5.30000e-01, 9.57000e+00, 2.70000e-01, 1.70000e-01],\n",
       "       [1.51806e+00, 1.30000e+01, 3.80000e+00, 1.08000e+00, 7.30700e+01,\n",
       "        5.60000e-01, 8.38000e+00, 0.00000e+00, 1.20000e-01],\n",
       "       [1.52213e+00, 1.42100e+01, 3.82000e+00, 4.70000e-01, 7.17700e+01,\n",
       "        1.10000e-01, 9.57000e+00, 0.00000e+00, 0.00000e+00],\n",
       "       [1.51720e+00, 1.33800e+01, 3.50000e+00, 1.15000e+00, 7.28500e+01,\n",
       "        5.00000e-01, 8.43000e+00, 0.00000e+00, 0.00000e+00],\n",
       "       [1.52152e+00, 1.31200e+01, 3.58000e+00, 9.00000e-01, 7.22000e+01,\n",
       "        2.30000e-01, 9.82000e+00, 0.00000e+00, 1.60000e-01],\n",
       "       [1.51652e+00, 1.35600e+01, 3.57000e+00, 1.47000e+00, 7.24500e+01,\n",
       "        6.40000e-01, 7.96000e+00, 0.00000e+00, 0.00000e+00],\n",
       "       [1.51784e+00, 1.30800e+01, 3.49000e+00, 1.28000e+00, 7.28600e+01,\n",
       "        6.00000e-01, 8.49000e+00, 0.00000e+00, 0.00000e+00],\n",
       "       [1.51735e+00, 1.30200e+01, 3.54000e+00, 1.69000e+00, 7.27300e+01,\n",
       "        5.40000e-01, 8.44000e+00, 0.00000e+00, 7.00000e-02],\n",
       "       [1.51131e+00, 1.36900e+01, 3.20000e+00, 1.81000e+00, 7.28100e+01,\n",
       "        1.76000e+00, 5.43000e+00, 1.19000e+00, 0.00000e+00],\n",
       "       [1.51841e+00, 1.30200e+01, 3.62000e+00, 1.06000e+00, 7.23400e+01,\n",
       "        6.40000e-01, 9.13000e+00, 0.00000e+00, 1.50000e-01],\n",
       "       [1.51915e+00, 1.27300e+01, 1.85000e+00, 1.86000e+00, 7.26900e+01,\n",
       "        6.00000e-01, 1.00900e+01, 0.00000e+00, 0.00000e+00],\n",
       "       [1.52152e+00, 1.30500e+01, 3.65000e+00, 8.70000e-01, 7.23200e+01,\n",
       "        1.90000e-01, 9.85000e+00, 0.00000e+00, 1.70000e-01],\n",
       "       [1.51596e+00, 1.27900e+01, 3.61000e+00, 1.62000e+00, 7.29700e+01,\n",
       "        6.40000e-01, 8.07000e+00, 0.00000e+00, 2.60000e-01],\n",
       "       [1.51789e+00, 1.31900e+01, 3.90000e+00, 1.30000e+00, 7.23300e+01,\n",
       "        5.50000e-01, 8.44000e+00, 0.00000e+00, 2.80000e-01],\n",
       "       [1.51215e+00, 1.29900e+01, 3.47000e+00, 1.12000e+00, 7.29800e+01,\n",
       "        6.20000e-01, 8.35000e+00, 0.00000e+00, 3.10000e-01],\n",
       "       [1.51609e+00, 1.50100e+01, 0.00000e+00, 2.51000e+00, 7.30500e+01,\n",
       "        5.00000e-02, 8.83000e+00, 5.30000e-01, 0.00000e+00],\n",
       "       [1.52043e+00, 1.33800e+01, 0.00000e+00, 1.40000e+00, 7.22500e+01,\n",
       "        3.30000e-01, 1.25000e+01, 0.00000e+00, 0.00000e+00]])"
      ]
     },
     "execution_count": 147,
     "metadata": {},
     "output_type": "execute_result"
    }
   ],
   "source": [
    "x_test"
   ]
  },
  {
   "cell_type": "code",
   "execution_count": 148,
   "id": "d7805fa7",
   "metadata": {},
   "outputs": [
    {
     "data": {
      "text/plain": [
       "array([4, 2, 3, 1, 4, 4, 4, 4, 4, 4, 4, 4, 4, 4, 6, 4, 4, 4, 4, 4, 4, 4,\n",
       "       5, 4, 4, 4, 4, 2, 4, 4, 4, 4, 2, 1, 2, 4, 4, 4, 4, 4, 1, 1, 4, 4,\n",
       "       4, 1, 4, 4, 4, 4, 4, 4, 4, 4, 4, 2, 4, 4, 2, 2, 1, 2, 0, 3, 2, 4,\n",
       "       4, 4, 4, 4, 0, 4, 4, 2, 1, 2, 4, 0, 2, 4, 4, 5, 4, 4, 1, 3, 1, 2,\n",
       "       4, 4, 4, 5, 4, 4, 2, 1, 4, 4, 4, 4, 3, 5, 2, 3, 4, 1, 4, 2, 1, 2,\n",
       "       4, 5, 2, 3, 1, 3, 4, 2, 4, 2, 4, 4, 1, 4, 3, 4, 2, 3, 4, 4, 4, 3,\n",
       "       2, 2, 4, 4, 4, 1, 4, 4, 1, 4, 2, 4, 5, 4, 4, 2, 4])"
      ]
     },
     "execution_count": 148,
     "metadata": {},
     "output_type": "execute_result"
    }
   ],
   "source": [
    "y_train"
   ]
  },
  {
   "cell_type": "code",
   "execution_count": 149,
   "id": "df1cb3d2",
   "metadata": {},
   "outputs": [
    {
     "data": {
      "text/plain": [
       "array([4, 1, 2, 1, 4, 5, 4, 4, 4, 4, 3, 3, 4, 4, 2, 3, 1, 2, 2, 1, 4, 1,\n",
       "       1, 1, 4, 2, 4, 4, 3, 4, 4, 4, 4, 4, 2, 1, 6, 4, 4, 0, 4, 1, 4, 4,\n",
       "       4, 3, 2, 4, 2, 4, 2, 4, 2, 4, 4, 4, 0, 4, 3, 2, 4, 4, 4, 1, 3])"
      ]
     },
     "execution_count": 149,
     "metadata": {},
     "output_type": "execute_result"
    }
   ],
   "source": [
    "y_test"
   ]
  },
  {
   "cell_type": "code",
   "execution_count": 150,
   "id": "0c616a79",
   "metadata": {},
   "outputs": [],
   "source": [
    "from sklearn.preprocessing import StandardScaler\n",
    "scaler=StandardScaler()\n",
    "scaler.fit(x_train)\n",
    "x_train=scaler.fit_transform(x_train)\n",
    "x_test=scaler.fit_transform(x_test)"
   ]
  },
  {
   "cell_type": "code",
   "execution_count": 151,
   "id": "a059b178",
   "metadata": {},
   "outputs": [],
   "source": [
    "from sklearn.neighbors import KNeighborsClassifier\n",
    "from sklearn.naive_bayes import GaussianNB\n",
    "from sklearn.svm import SVC\n",
    "from sklearn.tree import DecisionTreeClassifier\n",
    "from sklearn.ensemble import RandomForestClassifier\n",
    "from sklearn.metrics import confusion_matrix,accuracy_score,classification_report\n",
    "knn=KNeighborsClassifier(n_neighbors=7)\n",
    "naive=GaussianNB()\n",
    "support=SVC()\n",
    "tree=DecisionTreeClassifier(criterion='entropy',random_state=42)\n",
    "forest=RandomForestClassifier(n_estimators=100,random_state=42)\n",
    "lst=[knn,naive,support,tree,forest]"
   ]
  },
  {
   "cell_type": "code",
   "execution_count": 152,
   "id": "7b88cb77",
   "metadata": {},
   "outputs": [
    {
     "name": "stdout",
     "output_type": "stream",
     "text": [
      "*****performance evaluation of**** KNeighborsClassifier(n_neighbors=7)\n",
      "confusion_matrix is :- [[ 0  0  0  0  2  0  0]\n",
      " [ 0 10  0  0  0  0  0]\n",
      " [ 0  0  9  0  2  0  0]\n",
      " [ 0  0  1  4  2  0  0]\n",
      " [ 0  0  0  0 33  0  0]\n",
      " [ 0  0  0  0  0  1  0]\n",
      " [ 1  0  0  0  0  0  0]]\n",
      "****************************************************************************************************\n",
      "accuracy score :- KNeighborsClassifier(n_neighbors=7) 0.8769230769230769\n",
      "****************************************************************************************************\n",
      "classifiaction report is :-               precision    recall  f1-score   support\n",
      "\n",
      "           0       0.00      0.00      0.00         2\n",
      "           1       1.00      1.00      1.00        10\n",
      "           2       0.90      0.82      0.86        11\n",
      "           3       1.00      0.57      0.73         7\n",
      "           4       0.85      1.00      0.92        33\n",
      "           5       1.00      1.00      1.00         1\n",
      "           6       0.00      0.00      0.00         1\n",
      "\n",
      "    accuracy                           0.88        65\n",
      "   macro avg       0.68      0.63      0.64        65\n",
      "weighted avg       0.86      0.88      0.86        65\n",
      "\n",
      "****************************************************************************************************\n",
      "*****performance evaluation of**** GaussianNB()\n",
      "confusion_matrix is :- [[ 2  0  0  0  0  0  0]\n",
      " [ 0  8  1  1  0  0  0]\n",
      " [ 0  0 11  0  0  0  0]\n",
      " [ 0  0  0  7  0  0  0]\n",
      " [ 0  0  3  0 30  0  0]\n",
      " [ 0  0  0  1  0  0  0]\n",
      " [ 0  0  0  1  0  0  0]]\n",
      "****************************************************************************************************\n",
      "accuracy score :- GaussianNB() 0.8923076923076924\n",
      "****************************************************************************************************\n",
      "classifiaction report is :-               precision    recall  f1-score   support\n",
      "\n",
      "           0       1.00      1.00      1.00         2\n",
      "           1       1.00      0.80      0.89        10\n",
      "           2       0.73      1.00      0.85        11\n",
      "           3       0.70      1.00      0.82         7\n",
      "           4       1.00      0.91      0.95        33\n",
      "           5       0.00      0.00      0.00         1\n",
      "           6       0.00      0.00      0.00         1\n",
      "\n",
      "    accuracy                           0.89        65\n",
      "   macro avg       0.63      0.67      0.64        65\n",
      "weighted avg       0.89      0.89      0.88        65\n",
      "\n",
      "****************************************************************************************************\n",
      "*****performance evaluation of**** SVC()\n",
      "confusion_matrix is :- [[ 1  0  0  0  1  0  0]\n",
      " [ 0  9  0  1  0  0  0]\n",
      " [ 0  0 11  0  0  0  0]\n",
      " [ 0  0  0  7  0  0  0]\n",
      " [ 0  0  0  0 33  0  0]\n",
      " [ 0  0  0  0  0  1  0]\n",
      " [ 0  0  0  1  0  0  0]]\n",
      "****************************************************************************************************\n",
      "accuracy score :- SVC() 0.9538461538461539\n",
      "****************************************************************************************************\n",
      "classifiaction report is :-               precision    recall  f1-score   support\n",
      "\n",
      "           0       1.00      0.50      0.67         2\n",
      "           1       1.00      0.90      0.95        10\n",
      "           2       1.00      1.00      1.00        11\n",
      "           3       0.78      1.00      0.88         7\n",
      "           4       0.97      1.00      0.99        33\n",
      "           5       1.00      1.00      1.00         1\n",
      "           6       0.00      0.00      0.00         1\n",
      "\n",
      "    accuracy                           0.95        65\n",
      "   macro avg       0.82      0.77      0.78        65\n",
      "weighted avg       0.95      0.95      0.95        65\n",
      "\n",
      "****************************************************************************************************\n",
      "*****performance evaluation of**** DecisionTreeClassifier(criterion='entropy', random_state=42)\n",
      "confusion_matrix is :- [[ 1  0  0  0  1  0  0]\n",
      " [ 0  8  1  1  0  0  0]\n",
      " [ 0  0 11  0  0  0  0]\n",
      " [ 0  1  1  4  0  1  0]\n",
      " [ 1  0  3  0 29  0  0]\n",
      " [ 0  0  0  0  0  1  0]\n",
      " [ 0  0  0  0  0  0  1]]\n",
      "****************************************************************************************************\n",
      "accuracy score :- DecisionTreeClassifier(criterion='entropy', random_state=42) 0.8461538461538461\n",
      "****************************************************************************************************\n",
      "classifiaction report is :-               precision    recall  f1-score   support\n",
      "\n",
      "           0       0.50      0.50      0.50         2\n",
      "           1       0.89      0.80      0.84        10\n",
      "           2       0.69      1.00      0.81        11\n",
      "           3       0.80      0.57      0.67         7\n",
      "           4       0.97      0.88      0.92        33\n",
      "           5       0.50      1.00      0.67         1\n",
      "           6       1.00      1.00      1.00         1\n",
      "\n",
      "    accuracy                           0.85        65\n",
      "   macro avg       0.76      0.82      0.77        65\n",
      "weighted avg       0.87      0.85      0.85        65\n",
      "\n",
      "****************************************************************************************************\n"
     ]
    },
    {
     "name": "stderr",
     "output_type": "stream",
     "text": [
      "c:\\Users\\Dell\\anaconda3\\Lib\\site-packages\\sklearn\\metrics\\_classification.py:1509: UndefinedMetricWarning: Precision is ill-defined and being set to 0.0 in labels with no predicted samples. Use `zero_division` parameter to control this behavior.\n",
      "  _warn_prf(average, modifier, f\"{metric.capitalize()} is\", len(result))\n",
      "c:\\Users\\Dell\\anaconda3\\Lib\\site-packages\\sklearn\\metrics\\_classification.py:1509: UndefinedMetricWarning: Precision is ill-defined and being set to 0.0 in labels with no predicted samples. Use `zero_division` parameter to control this behavior.\n",
      "  _warn_prf(average, modifier, f\"{metric.capitalize()} is\", len(result))\n",
      "c:\\Users\\Dell\\anaconda3\\Lib\\site-packages\\sklearn\\metrics\\_classification.py:1509: UndefinedMetricWarning: Precision is ill-defined and being set to 0.0 in labels with no predicted samples. Use `zero_division` parameter to control this behavior.\n",
      "  _warn_prf(average, modifier, f\"{metric.capitalize()} is\", len(result))\n",
      "c:\\Users\\Dell\\anaconda3\\Lib\\site-packages\\sklearn\\metrics\\_classification.py:1509: UndefinedMetricWarning: Precision is ill-defined and being set to 0.0 in labels with no predicted samples. Use `zero_division` parameter to control this behavior.\n",
      "  _warn_prf(average, modifier, f\"{metric.capitalize()} is\", len(result))\n",
      "c:\\Users\\Dell\\anaconda3\\Lib\\site-packages\\sklearn\\metrics\\_classification.py:1509: UndefinedMetricWarning: Precision is ill-defined and being set to 0.0 in labels with no predicted samples. Use `zero_division` parameter to control this behavior.\n",
      "  _warn_prf(average, modifier, f\"{metric.capitalize()} is\", len(result))\n",
      "c:\\Users\\Dell\\anaconda3\\Lib\\site-packages\\sklearn\\metrics\\_classification.py:1509: UndefinedMetricWarning: Precision is ill-defined and being set to 0.0 in labels with no predicted samples. Use `zero_division` parameter to control this behavior.\n",
      "  _warn_prf(average, modifier, f\"{metric.capitalize()} is\", len(result))\n",
      "c:\\Users\\Dell\\anaconda3\\Lib\\site-packages\\sklearn\\metrics\\_classification.py:1509: UndefinedMetricWarning: Precision is ill-defined and being set to 0.0 in labels with no predicted samples. Use `zero_division` parameter to control this behavior.\n",
      "  _warn_prf(average, modifier, f\"{metric.capitalize()} is\", len(result))\n",
      "c:\\Users\\Dell\\anaconda3\\Lib\\site-packages\\sklearn\\metrics\\_classification.py:1509: UndefinedMetricWarning: Precision is ill-defined and being set to 0.0 in labels with no predicted samples. Use `zero_division` parameter to control this behavior.\n",
      "  _warn_prf(average, modifier, f\"{metric.capitalize()} is\", len(result))\n",
      "c:\\Users\\Dell\\anaconda3\\Lib\\site-packages\\sklearn\\metrics\\_classification.py:1509: UndefinedMetricWarning: Precision is ill-defined and being set to 0.0 in labels with no predicted samples. Use `zero_division` parameter to control this behavior.\n",
      "  _warn_prf(average, modifier, f\"{metric.capitalize()} is\", len(result))\n"
     ]
    },
    {
     "name": "stdout",
     "output_type": "stream",
     "text": [
      "*****performance evaluation of**** RandomForestClassifier(random_state=42)\n",
      "confusion_matrix is :- [[ 1  0  0  0  1  0  0]\n",
      " [ 0 10  0  0  0  0  0]\n",
      " [ 0  0 11  0  0  0  0]\n",
      " [ 0  0  0  7  0  0  0]\n",
      " [ 0  0  2  0 31  0  0]\n",
      " [ 0  0  0  0  0  1  0]\n",
      " [ 0  0  0  0  0  0  1]]\n",
      "****************************************************************************************************\n",
      "accuracy score :- RandomForestClassifier(random_state=42) 0.9538461538461539\n",
      "****************************************************************************************************\n",
      "classifiaction report is :-               precision    recall  f1-score   support\n",
      "\n",
      "           0       1.00      0.50      0.67         2\n",
      "           1       1.00      1.00      1.00        10\n",
      "           2       0.85      1.00      0.92        11\n",
      "           3       1.00      1.00      1.00         7\n",
      "           4       0.97      0.94      0.95        33\n",
      "           5       1.00      1.00      1.00         1\n",
      "           6       1.00      1.00      1.00         1\n",
      "\n",
      "    accuracy                           0.95        65\n",
      "   macro avg       0.97      0.92      0.93        65\n",
      "weighted avg       0.96      0.95      0.95        65\n",
      "\n",
      "****************************************************************************************************\n"
     ]
    }
   ],
   "source": [
    "for i in lst:\n",
    "    i.fit(x_train,y_train)\n",
    "    y_predict=i.predict(x_test)\n",
    "    print(\"*****performance evaluation of****\",i)\n",
    "    print(\"confusion_matrix is :-\",confusion_matrix(y_test,y_predict))\n",
    "    print(\"*\"*100)\n",
    "    print(\"accuracy score :-\",i,accuracy_score(y_test,y_predict))\n",
    "    print(\"*\"*100)\n",
    "    print(\"classifiaction report is :-\",classification_report(y_test,y_predict))\n",
    "    print(\"*\"*100)"
   ]
  }
 ],
 "metadata": {
  "kernelspec": {
   "display_name": "base",
   "language": "python",
   "name": "python3"
  },
  "language_info": {
   "codemirror_mode": {
    "name": "ipython",
    "version": 3
   },
   "file_extension": ".py",
   "mimetype": "text/x-python",
   "name": "python",
   "nbconvert_exporter": "python",
   "pygments_lexer": "ipython3",
   "version": "3.11.5"
  }
 },
 "nbformat": 4,
 "nbformat_minor": 5
}
